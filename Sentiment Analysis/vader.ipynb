{
 "cells": [
  {
   "cell_type": "code",
   "execution_count": null,
   "id": "700a0039",
   "metadata": {},
   "outputs": [],
   "source": [
    "# -*- coding: utf-8 -*-\n",
    "\"\"\"\n",
    "Scraping crude oil related news urls and text\n",
    "\n",
    "@author: Mayank Rasu\n",
    "\"\"\"\n",
    "\n",
    "# import necessary libraries\n",
    "import requests\n",
    "from bs4 import BeautifulSoup\n",
    "import pandas as pd\n",
    "\n",
    "# Create lists to store scraped news urls, headlines and text\n",
    "url_list = []\n",
    "news_text = []\n",
    "headlines = [] "
   ]
  },
  {
   "cell_type": "code",
   "execution_count": null,
   "id": "2b64b98b",
   "metadata": {},
   "outputs": [],
   "source": [
    "for i in range(1,3): #parameters of range function correspond to page numbers in the website with news listings\n",
    "    url = 'https://oilprice.com/Energy/Crude-Oil/Page-{}.html'.format(i)\n",
    "    request = requests.get(url)\n",
    "    soup = BeautifulSoup(request.text, \"html.parser\")\n",
    "    for links in soup.find_all('div', {'class': 'categoryArticle'}):\n",
    "        for info in links.find_all('a'):\n",
    "            if info.get('href') not in url_list:\n",
    "                url_list.append(info.get('href'))"
   ]
  },
  {
   "cell_type": "code",
   "execution_count": null,
   "id": "8009aad6",
   "metadata": {},
   "outputs": [],
   "source": [
    "for www in url_list:\n",
    "    temp = []\n",
    "    headlines.append(www.split(\"/\")[-1].replace('-',' '))\n",
    "    request = requests.get(www)\n",
    "    soup = BeautifulSoup(request.text, \"html.parser\")\n",
    "    for news in soup.find_all('p'):\n",
    "            temp.append(news.text)\n",
    "    \n",
    "    #identify the last line of the news article\n",
    "    for last_sentence in reversed(temp):\n",
    "        if last_sentence.split(\" \")[0]==\"By\" and last_sentence.split(\" \")[-1]==\"Oilprice.com\":\n",
    "            break\n",
    "        elif last_sentence.split(\" \")[0]==\"By\":\n",
    "            break\n",
    "    \n",
    "    #prune non news related text from the scraped data to create the news text\n",
    "    joined_text = ' '.join(temp[temp.index(\"More Info\")+1:temp.index(last_sentence)])\n",
    "    news_text.append(joined_text)   "
   ]
  },
  {
   "cell_type": "code",
   "execution_count": null,
   "id": "b05fd79d",
   "metadata": {},
   "outputs": [],
   "source": [
    "# save news text along with the news headline in a dataframe      \n",
    "news_df = pd.DataFrame({ 'Headline': headlines,\n",
    "                         'News': news_text,\n",
    "                       })\n",
    "    \n",
    "# export the news data into a csv file\n",
    "news_df.to_csv(\"CrudeOil_News_Articles.csv\",index=False)"
   ]
  }
 ],
 "metadata": {
  "kernelspec": {
   "display_name": "Python 3 (ipykernel)",
   "language": "python",
   "name": "python3"
  },
  "language_info": {
   "codemirror_mode": {
    "name": "ipython",
    "version": 3
   },
   "file_extension": ".py",
   "mimetype": "text/x-python",
   "name": "python",
   "nbconvert_exporter": "python",
   "pygments_lexer": "ipython3",
   "version": "3.9.12"
  }
 },
 "nbformat": 4,
 "nbformat_minor": 5
}
